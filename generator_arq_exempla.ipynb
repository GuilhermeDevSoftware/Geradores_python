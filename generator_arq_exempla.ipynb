{
 "cells": [
  {
   "cell_type": "code",
   "execution_count": 9,
   "metadata": {},
   "outputs": [],
   "source": [
    "def linhas_com_numeros_de_palavras(arquivo, numero):\n",
    "    with open(arquivo, 'r', encoding='utf-8') as file: #Abrindo um arquivo para leitura e dando o apelido dele de file\n",
    "        for linha in file:\n",
    "            if len(linha.split()) == numero: #Verificando se até a quebra de linha é igual a quantidade estabelecida\n",
    "                yield linha.strip() #Retornando essa quantidade"
   ]
  },
  {
   "cell_type": "code",
   "execution_count": 10,
   "metadata": {},
   "outputs": [
    {
     "name": "stdout",
     "output_type": "stream",
     "text": [
      "Python é legal\n",
      "Lua é branca\n"
     ]
    }
   ],
   "source": [
    "arquivo = \"texto.txt\"\n",
    "numero_palavras = 3 #Aqui é a quantidade estabelecida, vai mostrar as linhas que tem essa quantidade de palavras\n",
    "\n",
    "for linha in linhas_com_numeros_de_palavras(arquivo, numero_palavras):\n",
    "    print(linha)"
   ]
  }
 ],
 "metadata": {
  "kernelspec": {
   "display_name": "Python 3",
   "language": "python",
   "name": "python3"
  },
  "language_info": {
   "codemirror_mode": {
    "name": "ipython",
    "version": 3
   },
   "file_extension": ".py",
   "mimetype": "text/x-python",
   "name": "python",
   "nbconvert_exporter": "python",
   "pygments_lexer": "ipython3",
   "version": "3.11.9"
  }
 },
 "nbformat": 4,
 "nbformat_minor": 2
}
