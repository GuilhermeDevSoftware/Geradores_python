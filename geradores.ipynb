{
 "cells": [
  {
   "cell_type": "markdown",
   "metadata": {},
   "source": [
    "Yield\n",
    "- É uma palavra chave para criar geradores. Quando você usa ele em uma função, você transforma a função em um gerador, que é um tipo especial de iterador.\n",
    "- Return: Quando é usado numa função, é encerrado e o valor é retornado. Chamadas subsequentes a função executam a função novamente do código.\n",
    "- Yield: Pode ser chamada novamente e retomar a execução do ponto onde foi pausado, permitindo a produção de uma sequencia de valores ao longo do tempo.\n",
    "\n"
   ]
  },
  {
   "cell_type": "code",
   "execution_count": 1,
   "metadata": {},
   "outputs": [],
   "source": [
    "def numero_impares(n):\n",
    "    for i in range(1, n+1, 2):\n",
    "        yield i"
   ]
  },
  {
   "cell_type": "code",
   "execution_count": 4,
   "metadata": {},
   "outputs": [
    {
     "name": "stdout",
     "output_type": "stream",
     "text": [
      "1\n",
      "3\n",
      "5\n",
      "7\n",
      "9\n"
     ]
    }
   ],
   "source": [
    "for numero in numero_impares(10):\n",
    "    print(numero)"
   ]
  }
 ],
 "metadata": {
  "kernelspec": {
   "display_name": "Python 3",
   "language": "python",
   "name": "python3"
  },
  "language_info": {
   "codemirror_mode": {
    "name": "ipython",
    "version": 3
   },
   "file_extension": ".py",
   "mimetype": "text/x-python",
   "name": "python",
   "nbconvert_exporter": "python",
   "pygments_lexer": "ipython3",
   "version": "3.11.9"
  }
 },
 "nbformat": 4,
 "nbformat_minor": 2
}
