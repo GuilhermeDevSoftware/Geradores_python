{
 "cells": [
  {
   "cell_type": "code",
   "execution_count": 2,
   "metadata": {},
   "outputs": [
    {
     "name": "stdout",
     "output_type": "stream",
     "text": [
      "0\n",
      "1\n",
      "4\n",
      "9\n",
      "16\n"
     ]
    }
   ],
   "source": [
    "quadrados = (x ** 2 for x in range(5))\n",
    "for quadrado in quadrados:\n",
    "    print(quadrado)\n"
   ]
  },
  {
   "cell_type": "code",
   "execution_count": 3,
   "metadata": {},
   "outputs": [
    {
     "name": "stdout",
     "output_type": "stream",
     "text": [
      "0\n",
      "1\n",
      "2\n",
      "3\n",
      "4\n",
      "5\n",
      "6\n",
      "7\n",
      "8\n",
      "9\n"
     ]
    }
   ],
   "source": [
    "def contador_infinito():\n",
    "    i = 0\n",
    "    while True:\n",
    "        yield i\n",
    "        i += 1\n",
    "\n",
    "contador = contador_infinito()   \n",
    "for _ in range(10):\n",
    "    print(next(contador))"
   ]
  },
  {
   "cell_type": "code",
   "execution_count": 4,
   "metadata": {},
   "outputs": [],
   "source": [
    "#coletando valores com send\n",
    "def somando_valores():\n",
    "    total = 0\n",
    "    while True:\n",
    "        valor = yield total #Recebe um valor e retorna o total acumulado\n",
    "        if valor is not None: #Verifica se não esta vazio\n",
    "            total += valor\n"
   ]
  },
  {
   "cell_type": "code",
   "execution_count": null,
   "metadata": {},
   "outputs": [
    {
     "name": "stdout",
     "output_type": "stream",
     "text": [
      "10\n",
      "20\n",
      "30\n"
     ]
    }
   ],
   "source": [
    "soma = somando_valores()\n",
    "next(soma) #Iniciando gerador\n",
    "\n",
    "print(soma.send(10))\n",
    "print(soma.send(10))\n",
    "print(soma.send(10)) #Uma soma com os valores acumulados\n"
   ]
  },
  {
   "cell_type": "code",
   "execution_count": 7,
   "metadata": {},
   "outputs": [
    {
     "name": "stdout",
     "output_type": "stream",
     "text": [
      "Valor recebido 10.\n",
      "Valor recebido 20.\n",
      "Digite um valor válido!\n"
     ]
    },
    {
     "ename": "StopIteration",
     "evalue": "",
     "output_type": "error",
     "traceback": [
      "\u001b[31m---------------------------------------------------------------------------\u001b[39m",
      "\u001b[31mStopIteration\u001b[39m                             Traceback (most recent call last)",
      "\u001b[36mCell\u001b[39m\u001b[36m \u001b[39m\u001b[32mIn[7]\u001b[39m\u001b[32m, line 14\u001b[39m\n\u001b[32m     12\u001b[39m g.send(\u001b[32m10\u001b[39m)\n\u001b[32m     13\u001b[39m g.send(\u001b[32m20\u001b[39m)\n\u001b[32m---> \u001b[39m\u001b[32m14\u001b[39m \u001b[43mg\u001b[49m\u001b[43m.\u001b[49m\u001b[43mthrow\u001b[49m\u001b[43m(\u001b[49m\u001b[38;5;167;43;01mValueError\u001b[39;49;00m\u001b[43m)\u001b[49m\n",
      "\u001b[31mStopIteration\u001b[39m: "
     ]
    }
   ],
   "source": [
    "def gerador_excessao():\n",
    "    try:\n",
    "        while True:\n",
    "            valor = yield\n",
    "            print(f\"Valor recebido {valor}.\")\n",
    "    except ValueError:\n",
    "        print(\"Digite um valor válido!\") \n",
    "\n",
    "g = gerador_excessao()\n",
    "next(g)\n",
    "\n",
    "g.send(10)\n",
    "g.send(20)\n",
    "g.throw(ValueError)"
   ]
  }
 ],
 "metadata": {
  "kernelspec": {
   "display_name": "Python 3",
   "language": "python",
   "name": "python3"
  },
  "language_info": {
   "codemirror_mode": {
    "name": "ipython",
    "version": 3
   },
   "file_extension": ".py",
   "mimetype": "text/x-python",
   "name": "python",
   "nbconvert_exporter": "python",
   "pygments_lexer": "ipython3",
   "version": "3.11.9"
  }
 },
 "nbformat": 4,
 "nbformat_minor": 2
}
